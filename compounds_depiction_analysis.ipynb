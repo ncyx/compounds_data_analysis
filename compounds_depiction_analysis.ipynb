{
 "cells": [
  {
   "cell_type": "markdown",
   "id": "cdfd5d57",
   "metadata": {},
   "source": [
    "# Search, analysis and visualization of the selected compounds"
   ]
  },
  {
   "cell_type": "markdown",
   "id": "1d8c6658",
   "metadata": {},
   "source": [
    "This code searches a .csv table provided by ENAMINE for a compound(s) of interest and then visualizes it. Optionally, one can visually inspect structural differences of 2 compounds, which are going to be highlighted. \n",
    "\n",
    "## What is required for code execution: \n",
    "\n",
    "- conda installed on your machine: https://www.anaconda.com/download/\n",
    "- once conda is installed, some important packages should be installed as well: (add github file .yml)"
   ]
  },
  {
   "cell_type": "raw",
   "id": "e4c6920d",
   "metadata": {},
   "source": [
    "conda activate comp-vis-env\n",
    "pip install rdkit"
   ]
  },
  {
   "cell_type": "markdown",
   "id": "2877aca4",
   "metadata": {},
   "source": [
    "## Once it's all done, you can execute the code (Shift+Enter)\n",
    "\n",
    "The following chunk of code will import all the needed packages to work with compounds: "
   ]
  },
  {
   "cell_type": "code",
   "execution_count": 10,
   "id": "0d82ae15",
   "metadata": {},
   "outputs": [],
   "source": [
    "import matplotlib.pyplot as plt\n",
    "import numpy as np\n",
    "import pandas as pd\n",
    "from IPython.display import display\n",
    "from matplotlib.pyplot import cm\n",
    "from rdkit import Chem\n",
    "from rdkit.Chem import Draw, AllChem, rdFMCS\n",
    "from rdkit.Chem.Draw import IPythonConsole, rdDepictor\n",
    "pd.set_option('display.max_colwidth', None)"
   ]
  },
  {
   "cell_type": "markdown",
   "id": "cb448778",
   "metadata": {},
   "source": [
    "## Defining the ENAMINE .csv table which contains compounds:\n",
    "\n",
    "You need to put the path of the file to open like that: **'/.../filename.csv'**\n",
    "My path is e.g. \n",
    "\n",
    "'/Users/ncyx/Desktop/Studium/Master/lab_rotations/Claudio/data_Pirh2/screening_Claudio/compounds_list_to_screen.csv'"
   ]
  },
  {
   "cell_type": "code",
   "execution_count": 11,
   "id": "a9315c30",
   "metadata": {},
   "outputs": [],
   "source": [
    "screening_comps = pd.read_csv('/Users/ncyx/Desktop/Studium/Master/lab_rotations/Claudio/data_Pirh2/screening_Claudio/compounds_list_to_screen.csv',\n",
    "                      sep=';')\n",
    "screening_comps = screening_comps.drop(index=(83))"
   ]
  },
  {
   "cell_type": "markdown",
   "id": "6447efc3",
   "metadata": {},
   "source": [
    "## Search and visualization of the compounds: \n",
    "\n",
    "Once the interactive window pops out, you simply provide 4-digit number of the compounds **without** '#' separated by a space:\n",
    "\n",
    "E.g. 1177 3862 3007 9870"
   ]
  },
  {
   "cell_type": "code",
   "execution_count": 13,
   "id": "1c6b6af5",
   "metadata": {},
   "outputs": [],
   "source": [
    "def search_and_analysis_comp(dataframe):\n",
    "    \n",
    "    '''\n",
    "    \n",
    "    Code for selecting a 4-digit number compounds from the .csv table and for its visualization. \n",
    "    As input you should provide 4-digit identified of the compound (e.g. 1177) separated by space. \n",
    "    If concentration should be calculated, type y in the second popping-out window. \n",
    "    If the wrong 4-digit identified is provided, prints an error \"No matches found\" -> check your input\n",
    "    Returns a subset of the dataframe with compounds of interes, list of smiles and a list with compounds' names.  \n",
    "    \n",
    "    '''\n",
    "    \n",
    "    comp_identified = input('4 digits of the compound(s) of interest (sep by space): ')\n",
    "    conc_condition = input('should concentration be calculated? y/n: ')\n",
    "    comp_identified_list = comp_identified.split()\n",
    "    smiles_list = []\n",
    "    \n",
    "    for i in range(len(comp_identified_list)):\n",
    "        comp_of_interest = dataframe[dataframe['ID'].str.contains(comp_identified_list[i])]\n",
    "        \n",
    "        if len(comp_of_interest) == 0:\n",
    "            raise Exception(\"No matches found!\")\n",
    "\n",
    "        if len(comp_of_interest) != 1:\n",
    "            for j in comp_of_interest['ID']:\n",
    "                if j[len(j)-4:] == comp_identified_list[i]:\n",
    "                    comp_of_interest = comp_of_interest[comp_of_interest['ID'] == j]\n",
    "\n",
    "        MW_comp = float(dataframe['MW'][comp_of_interest.index])\n",
    "        mass_comp = float(dataframe['Amount_mg'][comp_of_interest.index])\n",
    "        amount_comp = float(mass_comp/MW_comp)\n",
    "        concentration_comp = (amount_comp / 100e-6)\n",
    "        if conc_condition == 'y':\n",
    "            print('compound',comp_identified_list[i], 'concentration: ', concentration_comp, 'mM')\n",
    "            \n",
    "        smiles_comp = dataframe['Smile'][comp_of_interest.index].to_string()\n",
    "        IPythonConsole.drawOptions.addAtomIndices = False\n",
    "        IPythonConsole.molSize = 400,400\n",
    "        smiles_comp_corr = smiles_comp[5:]\n",
    "        smiles_chem_mol = Chem.MolFromSmiles(smiles_comp_corr)\n",
    "        smiles_list.append(smiles_chem_mol)\n",
    "        \n",
    "    def compounds_plot(smiles_list, names_list):\n",
    "        \n",
    "        '''\n",
    "        \n",
    "        Automatically generates a plot with the selected compounds. \n",
    "        As input takes a list of SMILES and 4-digit number of the corresponding compounds.\n",
    "        Plots subplots: 2 rows and (number of compounds / 2) columns. If only 1 compounds is \n",
    "        provided, plots only 1 compound. \n",
    "        \n",
    "        '''\n",
    "        \n",
    "        if len(smiles_list) > 2: \n",
    "            numb_cols = int(len(comp_identified_list))\n",
    "            if len(smiles_list)%2 != 0:\n",
    "                numb_cols = int(len(comp_identified_list)+1)\n",
    "            fig, axs = plt.subplots(2, int(numb_cols/2), figsize=(10,8))\n",
    "            i = 0\n",
    "            for row in axs:\n",
    "                for ax in row:\n",
    "                    if i > (len(smiles_list)-1):\n",
    "                        ax.plot()\n",
    "                        ax.axis('off')\n",
    "                    else:\n",
    "                        ax.imshow(Chem.Draw.MolToImage(smiles_list[i],size=(700, 700)))\n",
    "                        ax.set_title('#'+names_list[i])\n",
    "                        ax.axis('off')\n",
    "                        i += 1\n",
    "        elif len(smiles_list) == 2 :\n",
    "            fig, (ax1,ax2) = plt.subplots(1, 2, figsize=(10,8))\n",
    "            ax1.imshow(Chem.Draw.MolToImage(smiles_list[0],size=(700, 700)))\n",
    "            ax1.axis('off')\n",
    "            ax1.set_title('#'+names_list[0])\n",
    "            ax2.imshow(Chem.Draw.MolToImage(smiles_list[1],size=(700, 700)))\n",
    "            ax2.axis('off')\n",
    "            ax2.set_title('#'+names_list[1])\n",
    "        else:\n",
    "            plt.imshow(Chem.Draw.MolToImage(smiles_list[0],size=(700, 700)))\n",
    "            plt.title('#'+names_list[0])\n",
    "            plt.axis('off')\n",
    "            plt.tight_layout()\n",
    "            plt.show()\n",
    "        plt.tight_layout()\n",
    "        plt.show()\n",
    "        \n",
    "    compounds_plot(smiles_list, comp_identified_list)\n",
    "\n",
    "    return comp_of_interest, smiles_list, comp_identified_list\n",
    "dataframes,smiles,names_list = search_and_analysis_comp(screening_comps)"
   ]
  },
  {
   "cell_type": "markdown",
   "id": "b4985f99",
   "metadata": {},
   "source": [
    "## This code highlights structural differences of  2 compounds:\n",
    "\n",
    "- To execute this code, you first need to generate data by executing the first function. Once the compounds are defined, you can visualize their differences:  "
   ]
  },
  {
   "cell_type": "code",
   "execution_count": null,
   "id": "89c70b74",
   "metadata": {},
   "outputs": [],
   "source": [
    "def view_difference(smiles_list, names_list):\n",
    "    \n",
    "    rdDepictor.SetPreferCoordGen(True)\n",
    "    IPythonConsole.drawOptions.minFontSize=20\n",
    "    which_compare = input('which 2 molecules you want to compare?: ')\n",
    "    which_compare_list = which_compare.split()\n",
    "    \n",
    "    mol1 = smiles_list[names_list.index(which_compare_list[0])]\n",
    "    mol2 = smiles_list[names_list.index(which_compare_list[1])]\n",
    "    \n",
    "    mcs = rdFMCS.FindMCS([mol1,mol2])\n",
    "    mcs_mol = Chem.MolFromSmarts(mcs.smartsString)\n",
    "    match1 = mol1.GetSubstructMatch(mcs_mol)\n",
    "    target_atm1 = []\n",
    "    for atom in mol1.GetAtoms():\n",
    "        if atom.GetIdx() not in match1:\n",
    "            target_atm1.append(atom.GetIdx())\n",
    "            match2 = mol2.GetSubstructMatch(mcs_mol)\n",
    "            \n",
    "    target_atm2 = []\n",
    "    for atom in mol2.GetAtoms():\n",
    "        if atom.GetIdx() not in match2:\n",
    "            target_atm2.append(atom.GetIdx())\n",
    "    \n",
    "    display(Draw.MolsToGridImage([mol1, mol2],subImgSize=(700,700),\n",
    "                                 highlightAtomLists=[target_atm1, target_atm2]))\n",
    "    \n",
    "view_difference(smiles, names_list)"
   ]
  },
  {
   "cell_type": "code",
   "execution_count": null,
   "id": "fb7a6269",
   "metadata": {},
   "outputs": [],
   "source": []
  }
 ],
 "metadata": {
  "kernelspec": {
   "display_name": "Python 3 (ipykernel)",
   "language": "python",
   "name": "python3"
  },
  "language_info": {
   "codemirror_mode": {
    "name": "ipython",
    "version": 3
   },
   "file_extension": ".py",
   "mimetype": "text/x-python",
   "name": "python",
   "nbconvert_exporter": "python",
   "pygments_lexer": "ipython3",
   "version": "3.11.3"
  }
 },
 "nbformat": 4,
 "nbformat_minor": 5
}
